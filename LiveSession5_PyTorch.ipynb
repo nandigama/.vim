{
  "nbformat": 4,
  "nbformat_minor": 0,
  "metadata": {
    "colab": {
      "provenance": [],
      "include_colab_link": true
    },
    "kernelspec": {
      "name": "python3",
      "display_name": "Python 3"
    },
    "language_info": {
      "name": "python"
    }
  },
  "cells": [
    {
      "cell_type": "markdown",
      "metadata": {
        "id": "view-in-github",
        "colab_type": "text"
      },
      "source": [
        "<a href=\"https://colab.research.google.com/github/nandigama/.vim/blob/master/LiveSession5_PyTorch.ipynb\" target=\"_parent\"><img src=\"https://colab.research.google.com/assets/colab-badge.svg\" alt=\"Open In Colab\"/></a>"
      ]
    },
    {
      "cell_type": "code",
      "execution_count": null,
      "metadata": {
        "id": "XIHJy4zorgPC"
      },
      "outputs": [],
      "source": [
        "import torch\n",
        "from torch import nn # nn contains all of PyTorch's building blocks for neural networks"
      ]
    },
    {
      "cell_type": "markdown",
      "source": [
        "Linear Regression with a Neural Network"
      ],
      "metadata": {
        "id": "HZMwqj_wrwb6"
      }
    },
    {
      "cell_type": "code",
      "source": [
        "# Create *known* parameters\n",
        "weight = 0.7\n",
        "bias = 0.3"
      ],
      "metadata": {
        "id": "JbOzbBcIrylL"
      },
      "execution_count": null,
      "outputs": []
    },
    {
      "cell_type": "code",
      "source": [
        "# Create data\n",
        "start = 0\n",
        "end = 1\n",
        "step = 0.02\n",
        "X = torch.arange(start, end, step).unsqueeze(dim=1)\n",
        "y = weight * X + bias"
      ],
      "metadata": {
        "id": "FJWnjvKXr5UI"
      },
      "execution_count": null,
      "outputs": []
    },
    {
      "cell_type": "code",
      "source": [
        "X.shape"
      ],
      "metadata": {
        "colab": {
          "base_uri": "https://localhost:8080/"
        },
        "id": "G5sZzHg0r-hx",
        "outputId": "80c65f9c-6597-4f28-bb3d-23c55ab2c634"
      },
      "execution_count": null,
      "outputs": [
        {
          "output_type": "execute_result",
          "data": {
            "text/plain": [
              "torch.Size([50, 1])"
            ]
          },
          "metadata": {},
          "execution_count": 4
        }
      ]
    },
    {
      "cell_type": "code",
      "source": [
        "y.shape"
      ],
      "metadata": {
        "colab": {
          "base_uri": "https://localhost:8080/"
        },
        "id": "lRaCye79r_Wi",
        "outputId": "b10ba0b3-4939-4c24-f17f-7813441cb041"
      },
      "execution_count": null,
      "outputs": [
        {
          "output_type": "execute_result",
          "data": {
            "text/plain": [
              "torch.Size([50, 1])"
            ]
          },
          "metadata": {},
          "execution_count": 5
        }
      ]
    },
    {
      "cell_type": "code",
      "source": [
        "X, y"
      ],
      "metadata": {
        "colab": {
          "base_uri": "https://localhost:8080/"
        },
        "id": "BZUlq5j0LTrt",
        "outputId": "75538f5f-e6a9-4e23-b5fe-97a37081a56d"
      },
      "execution_count": null,
      "outputs": [
        {
          "output_type": "execute_result",
          "data": {
            "text/plain": [
              "(tensor([[0.0000],\n",
              "         [0.0200],\n",
              "         [0.0400],\n",
              "         [0.0600],\n",
              "         [0.0800],\n",
              "         [0.1000],\n",
              "         [0.1200],\n",
              "         [0.1400],\n",
              "         [0.1600],\n",
              "         [0.1800],\n",
              "         [0.2000],\n",
              "         [0.2200],\n",
              "         [0.2400],\n",
              "         [0.2600],\n",
              "         [0.2800],\n",
              "         [0.3000],\n",
              "         [0.3200],\n",
              "         [0.3400],\n",
              "         [0.3600],\n",
              "         [0.3800],\n",
              "         [0.4000],\n",
              "         [0.4200],\n",
              "         [0.4400],\n",
              "         [0.4600],\n",
              "         [0.4800],\n",
              "         [0.5000],\n",
              "         [0.5200],\n",
              "         [0.5400],\n",
              "         [0.5600],\n",
              "         [0.5800],\n",
              "         [0.6000],\n",
              "         [0.6200],\n",
              "         [0.6400],\n",
              "         [0.6600],\n",
              "         [0.6800],\n",
              "         [0.7000],\n",
              "         [0.7200],\n",
              "         [0.7400],\n",
              "         [0.7600],\n",
              "         [0.7800],\n",
              "         [0.8000],\n",
              "         [0.8200],\n",
              "         [0.8400],\n",
              "         [0.8600],\n",
              "         [0.8800],\n",
              "         [0.9000],\n",
              "         [0.9200],\n",
              "         [0.9400],\n",
              "         [0.9600],\n",
              "         [0.9800]]),\n",
              " tensor([[0.3000],\n",
              "         [0.3140],\n",
              "         [0.3280],\n",
              "         [0.3420],\n",
              "         [0.3560],\n",
              "         [0.3700],\n",
              "         [0.3840],\n",
              "         [0.3980],\n",
              "         [0.4120],\n",
              "         [0.4260],\n",
              "         [0.4400],\n",
              "         [0.4540],\n",
              "         [0.4680],\n",
              "         [0.4820],\n",
              "         [0.4960],\n",
              "         [0.5100],\n",
              "         [0.5240],\n",
              "         [0.5380],\n",
              "         [0.5520],\n",
              "         [0.5660],\n",
              "         [0.5800],\n",
              "         [0.5940],\n",
              "         [0.6080],\n",
              "         [0.6220],\n",
              "         [0.6360],\n",
              "         [0.6500],\n",
              "         [0.6640],\n",
              "         [0.6780],\n",
              "         [0.6920],\n",
              "         [0.7060],\n",
              "         [0.7200],\n",
              "         [0.7340],\n",
              "         [0.7480],\n",
              "         [0.7620],\n",
              "         [0.7760],\n",
              "         [0.7900],\n",
              "         [0.8040],\n",
              "         [0.8180],\n",
              "         [0.8320],\n",
              "         [0.8460],\n",
              "         [0.8600],\n",
              "         [0.8740],\n",
              "         [0.8880],\n",
              "         [0.9020],\n",
              "         [0.9160],\n",
              "         [0.9300],\n",
              "         [0.9440],\n",
              "         [0.9580],\n",
              "         [0.9720],\n",
              "         [0.9860]]))"
            ]
          },
          "metadata": {},
          "execution_count": 6
        }
      ]
    },
    {
      "cell_type": "code",
      "source": [
        "# Create train/test split\n",
        "train_split = int(0.8 * len(X)) # 80% of data used for training set, 20% for testing\n",
        "X_train, y_train = X[:train_split], y[:train_split]\n",
        "X_test, y_test = X[train_split:], y[train_split:]\n",
        "\n",
        "len(X_train), len(y_train), len(X_test), len(y_test)"
      ],
      "metadata": {
        "colab": {
          "base_uri": "https://localhost:8080/"
        },
        "id": "KSGskI6ksE8Y",
        "outputId": "6b661398-ac3c-4767-aa4f-c4e2c819e6ce"
      },
      "execution_count": null,
      "outputs": [
        {
          "output_type": "execute_result",
          "data": {
            "text/plain": [
              "(40, 40, 10, 10)"
            ]
          },
          "metadata": {},
          "execution_count": 8
        }
      ]
    },
    {
      "cell_type": "code",
      "source": [
        "# Create a Linear Regression model Class\n",
        "class LinearRegressionModel(nn.Module): # <- almost everything in PyTorch is a nn.Module\n",
        "  def __init__(self):\n",
        "    super().__init__()\n",
        "    self.weights = nn.Parameter(torch.randn(1, dtype=torch.float), requires_grad=True) # start with random weights, PyTorch loves float32 by default, update with gradient descent\n",
        "    self.bias = nn.Parameter(torch.randn(1, dtype=torch.float), requires_grad=True)\n",
        "\n",
        "    # self.pooling = nn.AvgPool1d()\n",
        "    # self.hidden1 = nn.Hidden()\n",
        "    # self.softmax = nn.Softmax()\n",
        "    # self.embedding = nn.Embedding.from_pretrained(glove)\n",
        "\n",
        "\n",
        "  # Forward defines the computation in the model\n",
        "  def forward(self, x): # \"x\" is the input data (eg. training/testing feature)\n",
        "    return self.weights * x + self.bias # this is the linear regression formula (y = m*x + b)\n",
        "\n",
        "    # output1 = self.pooling(x)\n",
        "    # output2 = self.hidden1(output1)\n",
        "    # output3 = self.softmax(output2)\n",
        "\n"
      ],
      "metadata": {
        "id": "adOliaLNsdYf"
      },
      "execution_count": null,
      "outputs": []
    },
    {
      "cell_type": "code",
      "source": [
        "model = LinearRegressionModel()\n",
        "model"
      ],
      "metadata": {
        "colab": {
          "base_uri": "https://localhost:8080/"
        },
        "id": "wlzVD7XBtkq9",
        "outputId": "f6278d7c-fe0c-4978-8238-3f626ed30943"
      },
      "execution_count": null,
      "outputs": [
        {
          "output_type": "execute_result",
          "data": {
            "text/plain": [
              "LinearRegressionModel()"
            ]
          },
          "metadata": {},
          "execution_count": 10
        }
      ]
    },
    {
      "cell_type": "code",
      "source": [
        "with torch.inference_mode():\n",
        "  y_preds = model(X_test)\n",
        "\n",
        "  for values in zip(y_test, y_preds):\n",
        "    print(values)"
      ],
      "metadata": {
        "colab": {
          "base_uri": "https://localhost:8080/"
        },
        "id": "UDT5JxPktlI5",
        "outputId": "ba649530-3be1-4e0f-cb75-3c11f4f4eed7"
      },
      "execution_count": null,
      "outputs": [
        {
          "output_type": "stream",
          "name": "stdout",
          "text": [
            "(tensor([0.8600]), tensor([-2.1058]))\n",
            "(tensor([0.8740]), tensor([-2.0953]))\n",
            "(tensor([0.8880]), tensor([-2.0849]))\n",
            "(tensor([0.9020]), tensor([-2.0744]))\n",
            "(tensor([0.9160]), tensor([-2.0639]))\n",
            "(tensor([0.9300]), tensor([-2.0534]))\n",
            "(tensor([0.9440]), tensor([-2.0430]))\n",
            "(tensor([0.9580]), tensor([-2.0325]))\n",
            "(tensor([0.9720]), tensor([-2.0220]))\n",
            "(tensor([0.9860]), tensor([-2.0115]))\n"
          ]
        }
      ]
    },
    {
      "cell_type": "code",
      "source": [
        "loss_fn = nn.L1Loss()\n",
        "optimizer = torch.optim.SGD(params=model.parameters(), lr=.01)"
      ],
      "metadata": {
        "id": "0ap-vR0ywwzI"
      },
      "execution_count": null,
      "outputs": []
    },
    {
      "cell_type": "code",
      "source": [
        "epochs = 1000\n",
        "\n",
        "# Create empty loss lists to track values\n",
        "train_loss_values = []\n",
        "test_loss_values = []\n",
        "epoch_count = []\n",
        "\n",
        "for epoch in range(epochs+1):\n",
        "\n",
        "  # train\n",
        "  model.train()\n",
        "  y_pred = model(X_train)\n",
        "  loss = loss_fn(y_pred, y_train)\n",
        "  optimizer.zero_grad()\n",
        "  loss.backward()\n",
        "  optimizer.step()\n",
        "\n",
        "  # evaluation\n",
        "  model.eval()\n",
        "  with torch.inference_mode():\n",
        "    test_pred = model(X_test)\n",
        "    test_loss = loss_fn(test_pred, y_test.type(torch.float))\n",
        "\n",
        "  # print out\n",
        "  if epoch % 10 == 0:\n",
        "    epoch_count.append(epoch)\n",
        "    train_loss_values.append(loss.detach().numpy())\n",
        "    test_loss_values.append(test_loss.detach().numpy())\n",
        "    print(f\"Epoch: {epoch:03} | Train Loss: {loss:.5f} | Test Loss: {test_loss:.5f}\")"
      ],
      "metadata": {
        "colab": {
          "base_uri": "https://localhost:8080/"
        },
        "id": "9yY5sIlPxSu5",
        "outputId": "f5d8a205-f86f-405f-c6b0-2ce8e6943469"
      },
      "execution_count": null,
      "outputs": [
        {
          "output_type": "stream",
          "name": "stdout",
          "text": [
            "Epoch: 000 | Train Loss: 2.89354 | Test Loss: 2.96820\n",
            "Epoch: 010 | Train Loss: 2.77833 | Test Loss: 2.83349\n",
            "Epoch: 020 | Train Loss: 2.66312 | Test Loss: 2.69878\n",
            "Epoch: 030 | Train Loss: 2.54791 | Test Loss: 2.56407\n",
            "Epoch: 040 | Train Loss: 2.43270 | Test Loss: 2.42936\n",
            "Epoch: 050 | Train Loss: 2.31749 | Test Loss: 2.29465\n",
            "Epoch: 060 | Train Loss: 2.20228 | Test Loss: 2.15994\n",
            "Epoch: 070 | Train Loss: 2.08707 | Test Loss: 2.02523\n",
            "Epoch: 080 | Train Loss: 1.97186 | Test Loss: 1.89052\n",
            "Epoch: 090 | Train Loss: 1.85665 | Test Loss: 1.75581\n",
            "Epoch: 100 | Train Loss: 1.74144 | Test Loss: 1.62110\n",
            "Epoch: 110 | Train Loss: 1.62623 | Test Loss: 1.48639\n",
            "Epoch: 120 | Train Loss: 1.51102 | Test Loss: 1.35168\n",
            "Epoch: 130 | Train Loss: 1.39581 | Test Loss: 1.21697\n",
            "Epoch: 140 | Train Loss: 1.28060 | Test Loss: 1.08226\n",
            "Epoch: 150 | Train Loss: 1.16539 | Test Loss: 0.94755\n",
            "Epoch: 160 | Train Loss: 1.05018 | Test Loss: 0.81284\n",
            "Epoch: 170 | Train Loss: 0.93497 | Test Loss: 0.67813\n",
            "Epoch: 180 | Train Loss: 0.81976 | Test Loss: 0.54342\n",
            "Epoch: 190 | Train Loss: 0.70455 | Test Loss: 0.40871\n",
            "Epoch: 200 | Train Loss: 0.58934 | Test Loss: 0.27400\n",
            "Epoch: 210 | Train Loss: 0.47413 | Test Loss: 0.13929\n",
            "Epoch: 220 | Train Loss: 0.35892 | Test Loss: 0.03428\n",
            "Epoch: 230 | Train Loss: 0.24875 | Test Loss: 0.12509\n",
            "Epoch: 240 | Train Loss: 0.19511 | Test Loss: 0.20724\n",
            "Epoch: 250 | Train Loss: 0.17162 | Test Loss: 0.25673\n",
            "Epoch: 260 | Train Loss: 0.15960 | Test Loss: 0.28607\n",
            "Epoch: 270 | Train Loss: 0.15239 | Test Loss: 0.30236\n",
            "Epoch: 280 | Train Loss: 0.14732 | Test Loss: 0.31010\n",
            "Epoch: 290 | Train Loss: 0.14320 | Test Loss: 0.31291\n",
            "Epoch: 300 | Train Loss: 0.13941 | Test Loss: 0.31154\n",
            "Epoch: 310 | Train Loss: 0.13588 | Test Loss: 0.30739\n",
            "Epoch: 320 | Train Loss: 0.13236 | Test Loss: 0.30324\n",
            "Epoch: 330 | Train Loss: 0.12883 | Test Loss: 0.29909\n",
            "Epoch: 340 | Train Loss: 0.12536 | Test Loss: 0.29219\n",
            "Epoch: 350 | Train Loss: 0.12192 | Test Loss: 0.28460\n",
            "Epoch: 360 | Train Loss: 0.11849 | Test Loss: 0.27633\n",
            "Epoch: 370 | Train Loss: 0.11505 | Test Loss: 0.26806\n",
            "Epoch: 380 | Train Loss: 0.11162 | Test Loss: 0.26047\n",
            "Epoch: 390 | Train Loss: 0.10819 | Test Loss: 0.25220\n",
            "Epoch: 400 | Train Loss: 0.10475 | Test Loss: 0.24393\n",
            "Epoch: 410 | Train Loss: 0.10132 | Test Loss: 0.23634\n",
            "Epoch: 420 | Train Loss: 0.09788 | Test Loss: 0.22807\n",
            "Epoch: 430 | Train Loss: 0.09445 | Test Loss: 0.21980\n",
            "Epoch: 440 | Train Loss: 0.09102 | Test Loss: 0.21221\n",
            "Epoch: 450 | Train Loss: 0.08758 | Test Loss: 0.20394\n",
            "Epoch: 460 | Train Loss: 0.08414 | Test Loss: 0.19567\n",
            "Epoch: 470 | Train Loss: 0.08071 | Test Loss: 0.18808\n",
            "Epoch: 480 | Train Loss: 0.07728 | Test Loss: 0.17981\n",
            "Epoch: 490 | Train Loss: 0.07384 | Test Loss: 0.17223\n",
            "Epoch: 500 | Train Loss: 0.07041 | Test Loss: 0.16395\n",
            "Epoch: 510 | Train Loss: 0.06697 | Test Loss: 0.15568\n",
            "Epoch: 520 | Train Loss: 0.06354 | Test Loss: 0.14810\n",
            "Epoch: 530 | Train Loss: 0.06011 | Test Loss: 0.13982\n",
            "Epoch: 540 | Train Loss: 0.05667 | Test Loss: 0.13155\n",
            "Epoch: 550 | Train Loss: 0.05324 | Test Loss: 0.12397\n",
            "Epoch: 560 | Train Loss: 0.04981 | Test Loss: 0.11569\n",
            "Epoch: 570 | Train Loss: 0.04637 | Test Loss: 0.10742\n",
            "Epoch: 580 | Train Loss: 0.04293 | Test Loss: 0.09984\n",
            "Epoch: 590 | Train Loss: 0.03950 | Test Loss: 0.09156\n",
            "Epoch: 600 | Train Loss: 0.03606 | Test Loss: 0.08329\n",
            "Epoch: 610 | Train Loss: 0.03263 | Test Loss: 0.07570\n",
            "Epoch: 620 | Train Loss: 0.02920 | Test Loss: 0.06743\n",
            "Epoch: 630 | Train Loss: 0.02576 | Test Loss: 0.05916\n",
            "Epoch: 640 | Train Loss: 0.02233 | Test Loss: 0.05157\n",
            "Epoch: 650 | Train Loss: 0.01890 | Test Loss: 0.04330\n",
            "Epoch: 660 | Train Loss: 0.01546 | Test Loss: 0.03572\n",
            "Epoch: 670 | Train Loss: 0.01203 | Test Loss: 0.02744\n",
            "Epoch: 680 | Train Loss: 0.00859 | Test Loss: 0.01917\n",
            "Epoch: 690 | Train Loss: 0.00516 | Test Loss: 0.01159\n",
            "Epoch: 700 | Train Loss: 0.00185 | Test Loss: 0.00073\n",
            "Epoch: 710 | Train Loss: 0.00849 | Test Loss: 0.00030\n",
            "Epoch: 720 | Train Loss: 0.00849 | Test Loss: 0.00030\n",
            "Epoch: 730 | Train Loss: 0.00849 | Test Loss: 0.00030\n",
            "Epoch: 740 | Train Loss: 0.00849 | Test Loss: 0.00030\n",
            "Epoch: 750 | Train Loss: 0.00849 | Test Loss: 0.00030\n",
            "Epoch: 760 | Train Loss: 0.00849 | Test Loss: 0.00030\n",
            "Epoch: 770 | Train Loss: 0.00849 | Test Loss: 0.00030\n",
            "Epoch: 780 | Train Loss: 0.00849 | Test Loss: 0.00030\n",
            "Epoch: 790 | Train Loss: 0.00849 | Test Loss: 0.00030\n",
            "Epoch: 800 | Train Loss: 0.00849 | Test Loss: 0.00030\n",
            "Epoch: 810 | Train Loss: 0.00849 | Test Loss: 0.00030\n",
            "Epoch: 820 | Train Loss: 0.00849 | Test Loss: 0.00030\n",
            "Epoch: 830 | Train Loss: 0.00849 | Test Loss: 0.00030\n",
            "Epoch: 840 | Train Loss: 0.00849 | Test Loss: 0.00030\n",
            "Epoch: 850 | Train Loss: 0.00849 | Test Loss: 0.00030\n",
            "Epoch: 860 | Train Loss: 0.00849 | Test Loss: 0.00030\n",
            "Epoch: 870 | Train Loss: 0.00849 | Test Loss: 0.00030\n",
            "Epoch: 880 | Train Loss: 0.00849 | Test Loss: 0.00030\n",
            "Epoch: 890 | Train Loss: 0.00849 | Test Loss: 0.00030\n",
            "Epoch: 900 | Train Loss: 0.00849 | Test Loss: 0.00030\n",
            "Epoch: 910 | Train Loss: 0.00849 | Test Loss: 0.00030\n",
            "Epoch: 920 | Train Loss: 0.00849 | Test Loss: 0.00030\n",
            "Epoch: 930 | Train Loss: 0.00849 | Test Loss: 0.00030\n",
            "Epoch: 940 | Train Loss: 0.00849 | Test Loss: 0.00030\n",
            "Epoch: 950 | Train Loss: 0.00849 | Test Loss: 0.00030\n",
            "Epoch: 960 | Train Loss: 0.00849 | Test Loss: 0.00030\n",
            "Epoch: 970 | Train Loss: 0.00849 | Test Loss: 0.00030\n",
            "Epoch: 980 | Train Loss: 0.00849 | Test Loss: 0.00030\n",
            "Epoch: 990 | Train Loss: 0.00849 | Test Loss: 0.00030\n",
            "Epoch: 1000 | Train Loss: 0.00849 | Test Loss: 0.00030\n"
          ]
        }
      ]
    },
    {
      "cell_type": "code",
      "source": [
        "with torch.inference_mode():\n",
        "  y_preds = model(X_train)\n",
        "\n",
        "  for values in zip(y_train, y_preds):\n",
        "    print(values)"
      ],
      "metadata": {
        "colab": {
          "base_uri": "https://localhost:8080/"
        },
        "id": "GlKhJvORyO4P",
        "outputId": "fa540db8-b3b6-4dd8-91a1-70fb09f599bd"
      },
      "execution_count": null,
      "outputs": [
        {
          "output_type": "stream",
          "name": "stdout",
          "text": [
            "(tensor([0.3000]), tensor([0.2947]))\n",
            "(tensor([0.3140]), tensor([0.3088]))\n",
            "(tensor([0.3280]), tensor([0.3229]))\n",
            "(tensor([0.3420]), tensor([0.3370]))\n",
            "(tensor([0.3560]), tensor([0.3512]))\n",
            "(tensor([0.3700]), tensor([0.3653]))\n",
            "(tensor([0.3840]), tensor([0.3794]))\n",
            "(tensor([0.3980]), tensor([0.3935]))\n",
            "(tensor([0.4120]), tensor([0.4076]))\n",
            "(tensor([0.4260]), tensor([0.4217]))\n",
            "(tensor([0.4400]), tensor([0.4359]))\n",
            "(tensor([0.4540]), tensor([0.4500]))\n",
            "(tensor([0.4680]), tensor([0.4641]))\n",
            "(tensor([0.4820]), tensor([0.4782]))\n",
            "(tensor([0.4960]), tensor([0.4923]))\n",
            "(tensor([0.5100]), tensor([0.5064]))\n",
            "(tensor([0.5240]), tensor([0.5206]))\n",
            "(tensor([0.5380]), tensor([0.5347]))\n",
            "(tensor([0.5520]), tensor([0.5488]))\n",
            "(tensor([0.5660]), tensor([0.5629]))\n",
            "(tensor([0.5800]), tensor([0.5770]))\n",
            "(tensor([0.5940]), tensor([0.5911]))\n",
            "(tensor([0.6080]), tensor([0.6053]))\n",
            "(tensor([0.6220]), tensor([0.6194]))\n",
            "(tensor([0.6360]), tensor([0.6335]))\n",
            "(tensor([0.6500]), tensor([0.6476]))\n",
            "(tensor([0.6640]), tensor([0.6617]))\n",
            "(tensor([0.6780]), tensor([0.6758]))\n",
            "(tensor([0.6920]), tensor([0.6900]))\n",
            "(tensor([0.7060]), tensor([0.7041]))\n",
            "(tensor([0.7200]), tensor([0.7182]))\n",
            "(tensor([0.7340]), tensor([0.7323]))\n",
            "(tensor([0.7480]), tensor([0.7464]))\n",
            "(tensor([0.7620]), tensor([0.7605]))\n",
            "(tensor([0.7760]), tensor([0.7747]))\n",
            "(tensor([0.7900]), tensor([0.7888]))\n",
            "(tensor([0.8040]), tensor([0.8029]))\n",
            "(tensor([0.8180]), tensor([0.8170]))\n",
            "(tensor([0.8320]), tensor([0.8311]))\n",
            "(tensor([0.8460]), tensor([0.8452]))\n"
          ]
        }
      ]
    },
    {
      "cell_type": "code",
      "source": [
        "with torch.inference_mode():\n",
        "  y_preds = model(X_test)\n",
        "\n",
        "  for values in zip(y_test, y_preds):\n",
        "    print(values)"
      ],
      "metadata": {
        "colab": {
          "base_uri": "https://localhost:8080/"
        },
        "id": "46v1k-gUzdYW",
        "outputId": "b31660e8-0955-4c5a-8d5c-f9ba5b6479cc"
      },
      "execution_count": null,
      "outputs": [
        {
          "output_type": "stream",
          "name": "stdout",
          "text": [
            "(tensor([0.8600]), tensor([0.8594]))\n",
            "(tensor([0.8740]), tensor([0.8735]))\n",
            "(tensor([0.8880]), tensor([0.8876]))\n",
            "(tensor([0.9020]), tensor([0.9017]))\n",
            "(tensor([0.9160]), tensor([0.9158]))\n",
            "(tensor([0.9300]), tensor([0.9299]))\n",
            "(tensor([0.9440]), tensor([0.9441]))\n",
            "(tensor([0.9580]), tensor([0.9582]))\n",
            "(tensor([0.9720]), tensor([0.9723]))\n",
            "(tensor([0.9860]), tensor([0.9864]))\n"
          ]
        }
      ]
    },
    {
      "cell_type": "code",
      "source": [
        "y_example = weight * 42 + bias\n",
        "y_example"
      ],
      "metadata": {
        "colab": {
          "base_uri": "https://localhost:8080/"
        },
        "id": "Ca5qgeATziiH",
        "outputId": "e4154246-cb76-4e71-fb88-8603c3722d36"
      },
      "execution_count": null,
      "outputs": [
        {
          "output_type": "execute_result",
          "data": {
            "text/plain": [
              "29.7"
            ]
          },
          "metadata": {},
          "execution_count": 16
        }
      ]
    },
    {
      "cell_type": "code",
      "source": [
        "with torch.inference_mode():\n",
        "  y_pred = model(42)\n",
        "  print(y_pred)"
      ],
      "metadata": {
        "colab": {
          "base_uri": "https://localhost:8080/"
        },
        "id": "B4bKNxlYzpZv",
        "outputId": "822ccd4b-5f76-460d-d4fe-43db089685b9"
      },
      "execution_count": null,
      "outputs": [
        {
          "output_type": "stream",
          "name": "stdout",
          "text": [
            "tensor([29.9398])\n"
          ]
        }
      ]
    },
    {
      "cell_type": "code",
      "source": [
        "import matplotlib.pyplot as plt"
      ],
      "metadata": {
        "id": "ESwcac2Jzr6Q"
      },
      "execution_count": null,
      "outputs": []
    },
    {
      "cell_type": "code",
      "source": [
        "# change default style figure and font size\n",
        "plt.rcParams['figure.figsize'] = 8, 6\n",
        "plt.rcParams['font.size'] = 14\n",
        "\n",
        "y_pred = model(X).detach().numpy()\n",
        "plt.plot(X_test, y_test, 'ro', label='Original data')\n",
        "plt.plot(X_test, y_preds, label='Fitted line')\n",
        "plt.legend()\n",
        "plt.show()"
      ],
      "metadata": {
        "colab": {
          "base_uri": "https://localhost:8080/",
          "height": 527
        },
        "id": "MG1dosnIz0nT",
        "outputId": "586f1163-d54a-45ad-dca7-7a9a39fb88ef"
      },
      "execution_count": null,
      "outputs": [
        {
          "output_type": "display_data",
          "data": {
            "text/plain": [
              "<Figure size 800x600 with 1 Axes>"
            ],
            "image/png": "[encoded data removed]"
          },
          "metadata": {}
        }
      ]
    },
    {
      "cell_type": "code",
      "source": [],
      "metadata": {
        "id": "rko_Tuguz5jO"
      },
      "execution_count": null,
      "outputs": []
    },
    {
      "cell_type": "markdown",
      "source": [
        "RNN (Recurrent Neural Network)"
      ],
      "metadata": {
        "id": "qpnpovn10SvP"
      }
    },
    {
      "cell_type": "markdown",
      "source": [
        "https://ethen8181.github.io/machine-learning/deep_learning/rnn/1_pytorch_rnn.html"
      ],
      "metadata": {
        "id": "QP-ZoycZ0LbP"
      }
    },
    {
      "cell_type": "code",
      "source": [
        "import numpy as np"
      ],
      "metadata": {
        "id": "oCMxHpbK0OWj"
      },
      "execution_count": null,
      "outputs": []
    },
    {
      "cell_type": "code",
      "source": [
        "torch.manual_seed(777)\n",
        "\n",
        "# suppose we have a\n",
        "# one hot encoding for each char in 'hello'\n",
        "# and the sequence length for the word 'hello' is 5\n",
        "seq_len = 5\n",
        "h = [1, 0, 0, 0]\n",
        "e = [0, 1, 0, 0]\n",
        "l = [0, 0, 1, 0]\n",
        "o = [0, 0, 0, 1]"
      ],
      "metadata": {
        "id": "-myXP-J20VQS"
      },
      "execution_count": null,
      "outputs": []
    },
    {
      "cell_type": "code",
      "source": [
        "# here we specify a single RNN cell with the property of\n",
        "# input_dim (4) -> output_dim (2)\n",
        "# batch_first explained in the following\n",
        "rnn_cell = nn.RNN(input_size=4, hidden_size=2, batch_first=True)\n",
        "rnn_cell"
      ],
      "metadata": {
        "id": "E0wYm3Pt0bCs"
      },
      "execution_count": null,
      "outputs": []
    },
    {
      "cell_type": "code",
      "source": [
        "# our input shape should be of shape\n",
        "# (batch, seq_len, input_size) when batch_first=True;\n",
        "# the input size basically refers to the number of features\n",
        "# (seq_len, batch_size, input_size) when batch_first=False (default)\n",
        "# thus we reshape our input to the appropriate size, torch.view is\n",
        "# equivalent to numpy.reshape\n",
        "inputs = torch.Tensor([h, e, l, l, o])\n",
        "inputs = inputs.view(1, 5, -1)"
      ],
      "metadata": {
        "id": "GDx0pTcK0baN"
      },
      "execution_count": null,
      "outputs": []
    },
    {
      "cell_type": "code",
      "source": [
        "# our hidden is the weights that gets passed along the cells,\n",
        "# here we initialize some random values for it:\n",
        "# (batch, num_layers * num_directions, hidden_size) for batch_first=True\n",
        "# disregard the second argument as of now\n",
        "hidden = torch.zeros(1, 1, 2)\n",
        "out, hidden = rnn_cell(inputs, hidden)\n",
        "print('sequence input size', inputs.size())\n",
        "print('out size', out.size())\n",
        "print('sequence size', hidden.size())"
      ],
      "metadata": {
        "id": "OxonhCZT0iQ9"
      },
      "execution_count": null,
      "outputs": []
    },
    {
      "cell_type": "code",
      "source": [
        "# the first value returned by the rnn cell is all\n",
        "# of the hidden state throughout the sequence, while\n",
        "# the second value is the most recent hidden state;\n",
        "# hence we can compare the last slice of the the first\n",
        "# value with the second value to confirm that they are\n",
        "# the same\n",
        "print('\\ncomparing rnn cell output:')\n",
        "print(out[:, -1, :])\n",
        "hidden[0]"
      ],
      "metadata": {
        "id": "mzBuktPf0kyr"
      },
      "execution_count": null,
      "outputs": []
    },
    {
      "cell_type": "code",
      "source": [
        "# create an index to character mapping\n",
        "idx2char = ['h', 'i', 'e', 'l', 'o']"
      ],
      "metadata": {
        "id": "Fc_suHf00odj"
      },
      "execution_count": null,
      "outputs": []
    },
    {
      "cell_type": "code",
      "source": [
        "# Teach hihell -> ihello\n",
        "x_data = [[0, 1, 0, 2, 3, 3]]    # hihell\n",
        "x_one_hot = [[[1, 0, 0, 0, 0],   # h 0\n",
        "              [0, 1, 0, 0, 0],   # i 1\n",
        "              [1, 0, 0, 0, 0],   # h 0\n",
        "              [0, 0, 1, 0, 0],   # e 2\n",
        "              [0, 0, 0, 1, 0],   # l 3\n",
        "              [0, 0, 0, 1, 0]]]  # l 3"
      ],
      "metadata": {
        "id": "Hoh_S3Jp0qEi"
      },
      "execution_count": null,
      "outputs": []
    },
    {
      "cell_type": "code",
      "source": [
        "x_one_hot = np.array(x_one_hot)\n",
        "y_data = np.array([1, 0, 2, 3, 3, 4])  # ihello"
      ],
      "metadata": {
        "id": "fXKkPhqO0sXr"
      },
      "execution_count": null,
      "outputs": []
    },
    {
      "cell_type": "code",
      "source": [
        "# As we have one batch of samples, we will change them to variables only once\n",
        "inputs = torch.Tensor(x_one_hot)\n",
        "labels = torch.LongTensor(y_data)"
      ],
      "metadata": {
        "id": "EXo1HvHu0vzw"
      },
      "execution_count": null,
      "outputs": []
    },
    {
      "cell_type": "code",
      "source": [
        "# hyperparameters\n",
        "seq_len = 6      # |hihell| == 6, equivalent to time step\n",
        "input_size = 5   # one-hot size\n",
        "batch_size = 1   # one sentence per batch\n",
        "num_layers = 1   # one-layer rnn\n",
        "num_classes = 5  # predicting 5 distinct character\n",
        "hidden_size = 4  # output from the RNN"
      ],
      "metadata": {
        "id": "Bq5GhEE-0w6a"
      },
      "execution_count": null,
      "outputs": []
    },
    {
      "cell_type": "code",
      "source": [
        "# Dense Example\n",
        "\n",
        "self.embed_layer = nn.Embedding(num_embeddings=input_size, embedding_dim=hidden_size)\n",
        "self.hidden = nn.Linear()\n",
        "self.softmax = nn.Softmax()\n",
        "\n",
        "def forward(x):\n",
        "  output = self.embed_layer(x)\n",
        "  output = self.hidden(output)\n",
        "  output = self.softmax(output)\n",
        "  return output"
      ],
      "metadata": {
        "id": "hKgYROJL2VG4"
      },
      "execution_count": null,
      "outputs": []
    },
    {
      "cell_type": "code",
      "source": [
        "class RNN(nn.Module):\n",
        "    \"\"\"\n",
        "    The RNN model will be a RNN followed by a linear layer,\n",
        "    i.e. a fully-connected layer\n",
        "    \"\"\"\n",
        "    def __init__(self, seq_len, num_classes, input_size, hidden_size, num_layers):\n",
        "        super().__init__()\n",
        "        self.seq_len = seq_len\n",
        "        self.num_layers = num_layers\n",
        "        self.input_size = input_size\n",
        "        self.num_classes = num_classes\n",
        "        self.hidden_size = hidden_size\n",
        "        self.rnn = nn.RNN(input_size, hidden_size, batch_first=True)\n",
        "        self.linear = nn.Linear(hidden_size, num_classes)\n",
        "\n",
        "    def forward(self, x):\n",
        "        # assuming batch_first = True for RNN cells\n",
        "        batch_size = x.size(0)\n",
        "        hidden = self._init_hidden(batch_size)\n",
        "        x = x.view(batch_size, self.seq_len, self.input_size)\n",
        "\n",
        "        # apart from the output, rnn also gives us the hidden\n",
        "        # cell, this gives us the opportunity to pass it to\n",
        "        # the next cell if needed; we won't be needing it here\n",
        "        # because the nn.RNN already computed all the time steps\n",
        "        # for us. rnn_out will of size [batch_size, seq_len, hidden_size]\n",
        "        rnn_out, _ = self.rnn(x, hidden)\n",
        "        linear_out = self.linear(rnn_out.view(-1, hidden_size))\n",
        "        return linear_out\n",
        "\n",
        "    def _init_hidden(self, batch_size):\n",
        "        \"\"\"\n",
        "        Initialize hidden cell states, assuming\n",
        "        batch_first = True for RNN cells\n",
        "        \"\"\"\n",
        "        return torch.zeros(batch_size, self.num_layers, self.hidden_size)"
      ],
      "metadata": {
        "id": "O1ATroal0ymh"
      },
      "execution_count": null,
      "outputs": []
    },
    {
      "cell_type": "code",
      "source": [
        "# Set loss, optimizer and the RNN model\n",
        "torch.manual_seed(777)\n",
        "rnn = RNN(seq_len, num_classes, input_size, hidden_size, num_layers)\n",
        "print('network architecture:\\n', rnn)\n",
        "\n",
        "# train the model\n",
        "num_epochs = 15\n",
        "criterion = nn.CrossEntropyLoss()\n",
        "optimizer = torch.optim.Adam(rnn.parameters(), lr=0.1)\n",
        "for epoch in range(1, num_epochs + 1):\n",
        "    optimizer.zero_grad()\n",
        "    outputs = rnn(inputs)\n",
        "    loss = criterion(outputs, labels)\n",
        "    loss.backward()\n",
        "    optimizer.step()\n",
        "\n",
        "    # check the current predicted string\n",
        "    # max gives the maximum value and its\n",
        "    # corresponding index, we will only\n",
        "    # be needing the index\n",
        "    _, idx = outputs.max(dim = 1)\n",
        "    idx = idx.detach().numpy()\n",
        "    result_str = [idx2char[c] for c in idx]\n",
        "    print('epoch: {}, loss: {:1.3f}'.format(epoch, loss.item()))\n",
        "    print('Predicted string: ', ''.join(result_str))"
      ],
      "metadata": {
        "id": "coVxXITT03lv"
      },
      "execution_count": null,
      "outputs": []
    },
    {
      "cell_type": "markdown",
      "source": [
        "LSTM"
      ],
      "metadata": {
        "id": "t9RSu8sn1P4W"
      }
    },
    {
      "cell_type": "code",
      "source": [
        "# These will usually be more like 32 or 64 dimensional.\n",
        "# We will keep them small for this toy example\n",
        "EMBEDDING_SIZE = 6\n",
        "HIDDEN_SIZE = 6\n",
        "\n",
        "training_data = [\n",
        "    (\"The dog ate the apple\".split(), [\"DET\", \"NN\", \"V\", \"DET\", \"NN\"]),\n",
        "    (\"Everybody read that book\".split(), [\"NN\", \"V\", \"DET\", \"NN\"])\n",
        "]\n",
        "\n",
        "idx_to_tag = ['DET', 'NN', 'V']\n",
        "tag_to_idx = {'DET': 0, 'NN': 1, 'V': 2}\n",
        "\n",
        "word_to_idx = {}\n",
        "for sent, tags in training_data:\n",
        "    for word in sent:\n",
        "        if word not in word_to_idx:\n",
        "            word_to_idx[word] = len(word_to_idx)\n",
        "\n",
        "word_to_idx"
      ],
      "metadata": {
        "id": "fzk2mj6x09T9"
      },
      "execution_count": null,
      "outputs": []
    },
    {
      "cell_type": "code",
      "source": [
        "def prepare_sequence(seq, to_idx):\n",
        "    \"\"\"Convert sentence/sequence to torch Tensors\"\"\"\n",
        "    idxs = [to_idx[w] for w in seq]\n",
        "    return torch.LongTensor(idxs)\n",
        "\n",
        "seq = training_data[0][0]\n",
        "inputs = prepare_sequence(seq, word_to_idx)\n",
        "inputs"
      ],
      "metadata": {
        "id": "PEoqN_Iq1RP9"
      },
      "execution_count": null,
      "outputs": []
    },
    {
      "cell_type": "code",
      "source": [
        "class LSTMTagger(nn.Module):\n",
        "\n",
        "    def __init__(self, embedding_size, hidden_size, vocab_size, tagset_size):\n",
        "        super().__init__()\n",
        "        self.embedding_size = embedding_size\n",
        "        self.hidden_size = hidden_size\n",
        "        self.vocab_size = vocab_size\n",
        "        self.tagset_size = tagset_size\n",
        "\n",
        "        self.embedding = nn.Embedding(vocab_size, embedding_size)\n",
        "        self.lstm = nn.LSTM(embedding_size, hidden_size)\n",
        "        self.hidden2tag = nn.Linear(hidden_size, tagset_size)\n",
        "\n",
        "    def forward(self, x):\n",
        "        embed = self.embedding(x)\n",
        "        hidden = self._init_hidden()\n",
        "\n",
        "        # the second dimension refers to the batch size, which we've hard-coded\n",
        "        # it as 1 throughout the example\n",
        "        lstm_out, lstm_hidden = self.lstm(embed.view(len(x), 1, -1), hidden)\n",
        "        output = self.hidden2tag(lstm_out.view(len(x), -1))\n",
        "        return output\n",
        "\n",
        "    def _init_hidden(self):\n",
        "        # the dimension semantics are [num_layers, batch_size, hidden_size]\n",
        "        return (torch.rand(1, 1, self.hidden_size),\n",
        "                torch.rand(1, 1, self.hidden_size))"
      ],
      "metadata": {
        "id": "gnWSEOoU1See"
      },
      "execution_count": null,
      "outputs": []
    },
    {
      "cell_type": "code",
      "source": [
        "model = LSTMTagger(EMBEDDING_SIZE, HIDDEN_SIZE, len(word_to_idx), len(tag_to_idx))\n",
        "criterion = nn.CrossEntropyLoss()\n",
        "optimizer = torch.optim.SGD(model.parameters(), lr=0.1)\n",
        "\n",
        "epochs = 300\n",
        "for epoch in range(epochs):\n",
        "    for sentence, tags in training_data:\n",
        "        model.zero_grad()\n",
        "\n",
        "        sentence = prepare_sequence(sentence, word_to_idx)\n",
        "        target = prepare_sequence(tags, tag_to_idx)\n",
        "\n",
        "        output = model(sentence)\n",
        "        print([idx_to_tag[idx] for idx in np.argmax(output.detach().numpy(), axis=1)])\n",
        "        loss = criterion(output, target)\n",
        "        loss.backward()\n",
        "        optimizer.step()"
      ],
      "metadata": {
        "id": "82jqAk881TiK"
      },
      "execution_count": null,
      "outputs": []
    },
    {
      "cell_type": "code",
      "source": [
        "inputs = prepare_sequence(training_data[0][0], word_to_idx)\n",
        "tag_scores = model(inputs)\n",
        "\n",
        "# validating that the sentence \"the dog ate the apple\".\n",
        "# the correct tag should be DET NOUN VERB DET NOUN\n",
        "print('expected target: ', training_data[0][1])\n",
        "\n",
        "tag_scores = tag_scores.detach().numpy()\n",
        "tag = [idx_to_tag[idx] for idx in np.argmax(tag_scores, axis = 1)]\n",
        "print('generated target: ', tag)"
      ],
      "metadata": {
        "id": "4nGhHDsZ1gQj"
      },
      "execution_count": null,
      "outputs": []
    },
    {
      "cell_type": "code",
      "source": [],
      "metadata": {
        "id": "kXYPjMQe1oc6"
      },
      "execution_count": null,
      "outputs": []
    }
  ]
}